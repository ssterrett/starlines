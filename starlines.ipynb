{
 "cells": [
  {
   "cell_type": "code",
   "execution_count": 2,
   "metadata": {},
   "outputs": [
    {
     "data": {
      "application/vnd.jupyter.widget-view+json": {
       "model_id": "2fd9a10905f340b3b22b4ec7b6532d2f",
       "version_major": 2,
       "version_minor": 0
      },
      "text/html": [
       "<p>Failed to display Jupyter Widget of type <code>interactive</code>.</p>\n",
       "<p>\n",
       "  If you're reading this message in Jupyter Notebook or JupyterLab, it may mean\n",
       "  that the widgets JavaScript is still loading. If this message persists, it\n",
       "  likely means that the widgets JavaScript library is either not installed or\n",
       "  not enabled. See the <a href=\"https://ipywidgets.readthedocs.io/en/stable/user_install.html\">Jupyter\n",
       "  Widgets Documentation</a> for setup instructions.\n",
       "</p>\n",
       "<p>\n",
       "  If you're reading this message in another notebook frontend (for example, a static\n",
       "  rendering on GitHub or <a href=\"https://nbviewer.jupyter.org/\">NBViewer</a>),\n",
       "  it may mean that your frontend doesn't currently support widgets.\n",
       "</p>\n"
      ],
      "text/plain": [
       "interactive(children=(IntSlider(value=1, description='T1', max=999, min=1), IntSlider(value=1, description='T2', max=999, min=1), Output()), _dom_classes=('widget-interact',))"
      ]
     },
     "metadata": {},
     "output_type": "display_data"
    },
    {
     "data": {
      "text/plain": [
       "<function __main__.star>"
      ]
     },
     "execution_count": 2,
     "metadata": {},
     "output_type": "execute_result"
    }
   ],
   "source": [
    "import matplotlib.pyplot as plt\n",
    "import numpy as np\n",
    "import math\n",
    "from ipywidgets import interact, interactive, fixed, interact_manual\n",
    "import ipywidgets as widgets\n",
    "\n",
    "r1 = 1\n",
    "r2 = 2*r1\n",
    "   \n",
    "def star(T1,T2):\n",
    "    N = 1000\n",
    "    cm = T1*T2\n",
    "    ang = np.linspace(0,2*math.pi,N)\n",
    "    sin = np.sin(ang)\n",
    "    cos = np.cos(ang)\n",
    "    plt.plot(np.cos(ang), np.sin(ang))\n",
    "    plt.plot(r2*np.cos(ang), r2*np.sin(ang))\n",
    "    plt.axis('equal')\n",
    "    for i in range(N):\n",
    "        plt.plot([cos[(i*T1)%N], r2*cos[(i*T2)%N]], [sin[(i*T1)%N], r2*sin[(i*T2)%N]], 'k', linewidth = .1)\n",
    "    plt.axis('off')\n",
    "    plt.show()\n",
    "\n",
    "interact(star, T1=widgets.IntSlider(min=1, max=999, step = 1, value = 1), T2=widgets.IntSlider(min=1, max=999, step = 1, value = 1))\n"
   ]
  },
  {
   "cell_type": "code",
   "execution_count": null,
   "metadata": {},
   "outputs": [],
   "source": []
  }
 ],
 "metadata": {
  "kernelspec": {
   "display_name": "Python 3",
   "language": "python",
   "name": "python3"
  },
  "language_info": {
   "codemirror_mode": {
    "name": "ipython",
    "version": 3
   },
   "file_extension": ".py",
   "mimetype": "text/x-python",
   "name": "python",
   "nbconvert_exporter": "python",
   "pygments_lexer": "ipython3",
   "version": "3.5.4"
  }
 },
 "nbformat": 4,
 "nbformat_minor": 2
}
